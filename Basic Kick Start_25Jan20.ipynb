{
 "cells": [
  {
   "cell_type": "code",
   "execution_count": 3,
   "metadata": {},
   "outputs": [
    {
     "name": "stdout",
     "output_type": "stream",
     "text": [
      "15\n"
     ]
    }
   ],
   "source": [
    "a = 15\n",
    "print(a)"
   ]
  },
  {
   "cell_type": "markdown",
   "metadata": {},
   "source": [
    "Variable Assignment"
   ]
  },
  {
   "cell_type": "code",
   "execution_count": 5,
   "metadata": {},
   "outputs": [
    {
     "name": "stdout",
     "output_type": "stream",
     "text": [
      "This is integer : 10\n"
     ]
    }
   ],
   "source": [
    "b = 10\n",
    "print(\"This is integer :\", b)"
   ]
  },
  {
   "cell_type": "code",
   "execution_count": 9,
   "metadata": {},
   "outputs": [
    {
     "name": "stdout",
     "output_type": "stream",
     "text": [
      "This is a float : 10.2\n"
     ]
    }
   ],
   "source": [
    "c = 10.2\n",
    "print(\"This is a float :\", c)"
   ]
  },
  {
   "cell_type": "code",
   "execution_count": 10,
   "metadata": {},
   "outputs": [
    {
     "name": "stdout",
     "output_type": "stream",
     "text": [
      "This is a string : mohit\n"
     ]
    }
   ],
   "source": [
    "name = 'mohit'\n",
    "print(\"This is a string :\", name)"
   ]
  },
  {
   "cell_type": "code",
   "execution_count": 15,
   "metadata": {},
   "outputs": [
    {
     "name": "stdout",
     "output_type": "stream",
     "text": [
      "This is integer : 15\n",
      "This is float : 456.6\n",
      "This is boolean : True\n",
      "<class 'bool'>\n",
      "<class 'float'>\n",
      "<class 'int'>\n"
     ]
    },
    {
     "data": {
      "text/plain": [
       "bool"
      ]
     },
     "execution_count": 15,
     "metadata": {},
     "output_type": "execute_result"
    }
   ],
   "source": [
    "#Integer\n",
    "a = 15\n",
    "print(\"This is integer :\", a)\n",
    "\n",
    "#Float\n",
    "b = 456.6\n",
    "print(\"This is float :\", b)\n",
    "\n",
    "#Boolean\n",
    "c = True\n",
    "print(\"This is boolean :\", c)\n",
    "\n",
    "#To know the Type of a Variable\n",
    "print(type(c))\n",
    "print(type(b))\n",
    "print(type(a))\n",
    "type(a)\n",
    "type(b)\n",
    "type(c)\n"
   ]
  },
  {
   "cell_type": "code",
   "execution_count": 33,
   "metadata": {},
   "outputs": [
    {
     "name": "stdout",
     "output_type": "stream",
     "text": [
      "1728\n",
      "output of divison : 4.5\n",
      "output of floor divison : 4\n",
      "output of floor divison : 4\n",
      "output of floor divison : -5\n",
      "output of divison : 4.71\n",
      "output of divison : 4.0\n"
     ]
    }
   ],
   "source": [
    "a = 576*3\n",
    "print(a)\n",
    "\n",
    "x = 9/2\n",
    "print(\"output of divison :\", x)\n",
    "\n",
    "y = 9//2\n",
    "print(\"output of floor divison :\", y)\n",
    "\n",
    "z = 47//10\n",
    "print(\"output of floor divison :\", z)  #roundoff to floor\n",
    "\n",
    "p = -47//10\n",
    "print(\"output of floor divison :\", p) #round off to celeing\n",
    "\n",
    "f = 47.1/10\n",
    "print(\"output of divison :\", f)\n",
    "\n",
    "ff = 47.1//10\n",
    "print(\"output of divison :\", ff)\n"
   ]
  },
  {
   "cell_type": "code",
   "execution_count": 35,
   "metadata": {},
   "outputs": [
    {
     "name": "stdout",
     "output_type": "stream",
     "text": [
      "8\n"
     ]
    }
   ],
   "source": [
    "raise_to_power = 2**3\n",
    "print(raise_to_power)"
   ]
  },
  {
   "cell_type": "code",
   "execution_count": 36,
   "metadata": {},
   "outputs": [
    {
     "name": "stdout",
     "output_type": "stream",
     "text": [
      "Two fruits are apple\n"
     ]
    }
   ],
   "source": [
    "fruit1 = 'apple'\n",
    "fruit2 = 'orange'\n",
    "print(\"Two fruits are {}\" .format(fruit1)) #in {} vriable will be assigned"
   ]
  },
  {
   "cell_type": "code",
   "execution_count": 37,
   "metadata": {},
   "outputs": [
    {
     "name": "stdout",
     "output_type": "stream",
     "text": [
      "Two fruits are apple and orange\n"
     ]
    }
   ],
   "source": [
    "fruit1 = 'apple'\n",
    "fruit2 = 'orange'\n",
    "print(\"Two fruits are {} and {}\" .format(fruit1, fruit2))"
   ]
  },
  {
   "cell_type": "markdown",
   "metadata": {},
   "source": [
    "Conditional Statements\n",
    "1. if\n",
    "2. if ... else\n",
    "3. elif\n"
   ]
  },
  {
   "cell_type": "code",
   "execution_count": 44,
   "metadata": {},
   "outputs": [
    {
     "name": "stdout",
     "output_type": "stream",
     "text": [
      "True\n"
     ]
    }
   ],
   "source": [
    "num1 = 1\n",
    "if num1<5 :    #: means block, you've to continue\n",
    "    print(True)"
   ]
  },
  {
   "cell_type": "code",
   "execution_count": 47,
   "metadata": {},
   "outputs": [
    {
     "name": "stdout",
     "output_type": "stream",
     "text": [
      "False\n"
     ]
    }
   ],
   "source": [
    "num1 = 10\n",
    "if num1<5 :\n",
    "    print(True)\n",
    "else :\n",
    "    print(False)"
   ]
  },
  {
   "cell_type": "code",
   "execution_count": 53,
   "metadata": {},
   "outputs": [
    {
     "name": "stdout",
     "output_type": "stream",
     "text": [
      "Even\n"
     ]
    }
   ],
   "source": [
    "#even or odd\n",
    "num = 10\n",
    "if num%2 == 0 :\n",
    "    print(\"Even\")\n",
    "else :\n",
    "    print(\"Odd\")"
   ]
  },
  {
   "cell_type": "code",
   "execution_count": 51,
   "metadata": {},
   "outputs": [
    {
     "name": "stdout",
     "output_type": "stream",
     "text": [
      "1\n",
      "6.5\n"
     ]
    }
   ],
   "source": [
    "mod_ex = 13%2\n",
    "print(mod_ex)\n",
    "\n",
    "div_ex = 13/2\n",
    "print(div_ex)"
   ]
  },
  {
   "cell_type": "code",
   "execution_count": 54,
   "metadata": {},
   "outputs": [
    {
     "name": "stdout",
     "output_type": "stream",
     "text": [
      "please enter your name :Mohit\n",
      "Thanks :  Mohit\n"
     ]
    }
   ],
   "source": [
    "#input from user\n",
    "name = input(\"please enter your name :\")\n",
    "print(\"Thanks : \", name)"
   ]
  },
  {
   "cell_type": "code",
   "execution_count": 4,
   "metadata": {},
   "outputs": [
    {
     "name": "stdout",
     "output_type": "stream",
     "text": [
      "please enter a number :10\n",
      "Even\n",
      "please enter a number :10\n",
      "Even\n"
     ]
    }
   ],
   "source": [
    "#even or odd with user input\n",
    "num = input(\"please enter a number :\")\n",
    "if int(num)%2 == 0 : #typecast required as it will take num as string\n",
    "    print(\"Even\")\n",
    "else :\n",
    "    print(\"Odd\") \n",
    "    \n",
    "#or\n",
    "\n",
    "num = int(input(\"please enter a number :\")) #directly give as int\n",
    "if num%2 == 0 : \n",
    "    print(\"Even\")\n",
    "else :\n",
    "    print(\"Odd\") "
   ]
  },
  {
   "cell_type": "code",
   "execution_count": 5,
   "metadata": {},
   "outputs": [
    {
     "name": "stdout",
     "output_type": "stream",
     "text": [
      "please enter age : 26\n",
      "this is Str :  26\n",
      "52\n"
     ]
    }
   ],
   "source": [
    "age=input(\"please enter age : \")\n",
    "print(\"this is Str : \" , age)\n",
    "x = int(age)*2\n",
    "print(x)"
   ]
  },
  {
   "cell_type": "code",
   "execution_count": 6,
   "metadata": {},
   "outputs": [
    {
     "name": "stdout",
     "output_type": "stream",
     "text": [
      "1\n"
     ]
    }
   ],
   "source": [
    "a = 13\n",
    "b = \"13\"\n",
    "result = int(b)%2\n",
    "print(result)"
   ]
  },
  {
   "cell_type": "code",
   "execution_count": 8,
   "metadata": {},
   "outputs": [
    {
     "name": "stdout",
     "output_type": "stream",
     "text": [
      "Python\n"
     ]
    }
   ],
   "source": [
    "sub=\"Python\"\n",
    "if sub==\"java\" :\n",
    "    print(\"java\")\n",
    "elif sub==\"C\" :\n",
    "    print(\"C\")\n",
    "elif sub==\"angular\" :\n",
    "    print(\"angular\")\n",
    "else:\n",
    "    print(sub)"
   ]
  },
  {
   "cell_type": "code",
   "execution_count": null,
   "metadata": {},
   "outputs": [],
   "source": []
  }
 ],
 "metadata": {
  "kernelspec": {
   "display_name": "Python 3",
   "language": "python",
   "name": "python3"
  },
  "language_info": {
   "codemirror_mode": {
    "name": "ipython",
    "version": 3
   },
   "file_extension": ".py",
   "mimetype": "text/x-python",
   "name": "python",
   "nbconvert_exporter": "python",
   "pygments_lexer": "ipython3",
   "version": "3.7.4"
  }
 },
 "nbformat": 4,
 "nbformat_minor": 2
}
